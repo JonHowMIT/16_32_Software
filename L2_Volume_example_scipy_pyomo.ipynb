{
 "cells": [
  {
   "cell_type": "markdown",
   "metadata": {
    "id": "i6Qu0gl43azE"
   },
   "source": [
    "# Simple constrained maximum area problem with linear and nonlinear constraints solved using **SCIPY** and **Pyomo**"
   ]
  },
  {
   "cell_type": "code",
   "execution_count": 1,
   "metadata": {
    "id": "JUwCgcu0mtv0"
   },
   "outputs": [
    {
     "name": "stdout",
     "output_type": "stream",
     "text": [
      "Running Python: 3.9.9\n"
     ]
    },
    {
     "name": "stderr",
     "output_type": "stream",
     "text": [
      "/Users/jonathanhow/myenv/lib/python3.9/site-packages/requests/__init__.py:102: RequestsDependencyWarning: urllib3 (1.26.9) or chardet (5.1.0)/charset_normalizer (2.0.12) doesn't match a supported version!\n",
      "  warnings.warn(\"urllib3 ({}) or chardet ({})/charset_normalizer ({}) doesn't match a supported \"\n"
     ]
    }
   ],
   "source": [
    "from os.path import exists\n",
    "file_exists = exists('basic_material.py')\n",
    "\n",
    "if (not file_exists):\n",
    "  !wget -O basic_material.py https://www.dropbox.com/s/3aoexl8vxyitmds/basic_material.py?dl=0\n",
    "%run basic_material\n",
    "\n",
    "try:\n",
    "    import google.colab\n",
    "    IN_COLAB = True\n",
    "    # don't need serial here\n",
    "except:\n",
    "    IN_COLAB = False\n",
    "    try: \n",
    "        import serial\n",
    "    except:\n",
    "        !pip3 install pyserial\n",
    "        import serial\n",
    "\n",
    "import time, csv, os, requests\n",
    " \n",
    "from os import path\n",
    "if os.path.isdir(\"./data/\"):\n",
    "    pass\n",
    "else:\n",
    "    !mkdir ./data\n",
    "    \n",
    "if os.path.isdir(\"./figs/\"):\n",
    "    pass\n",
    "else:\n",
    "    !mkdir ./figs"
   ]
  },
  {
   "cell_type": "markdown",
   "metadata": {
    "id": "ic9n8w_Ur9vB"
   },
   "source": [
    "**Problem**: With positive $x$ and $y$, maximize area of a rectangle ($A = xy$) subject to\n",
    "1.   linear constraint that perimeter length $2(x+y) \\leq Perim$  \n",
    "2.   Nonlinear constraint that $y \\leq Peak -x^2$\n"
   ]
  },
  {
   "cell_type": "code",
   "execution_count": 2,
   "metadata": {
    "colab": {
     "base_uri": "https://localhost:8080/"
    },
    "executionInfo": {
     "elapsed": 587,
     "status": "ok",
     "timestamp": 1614194629852,
     "user": {
      "displayName": "Jonathan How",
      "photoUrl": "https://lh3.googleusercontent.com/a-/AOh14GiLNnJYgBpzQQozBm-BaS4zBKlaQEQa39WYawXVaw=s64",
      "userId": "07882044077368082882"
     },
     "user_tz": 300
    },
    "id": "zJ-kZRI0oPXq",
    "outputId": "c7d962a5-ccb8-413b-8d2a-2da9ca1b0558"
   },
   "outputs": [],
   "source": [
    "Perim = 20\n",
    "Peak = 17"
   ]
  },
  {
   "cell_type": "code",
   "execution_count": 3,
   "metadata": {
    "colab": {
     "base_uri": "https://localhost:8080/"
    },
    "executionInfo": {
     "elapsed": 587,
     "status": "ok",
     "timestamp": 1614194629852,
     "user": {
      "displayName": "Jonathan How",
      "photoUrl": "https://lh3.googleusercontent.com/a-/AOh14GiLNnJYgBpzQQozBm-BaS4zBKlaQEQa39WYawXVaw=s64",
      "userId": "07882044077368082882"
     },
     "user_tz": 300
    },
    "id": "zJ-kZRI0oPXq",
    "outputId": "c7d962a5-ccb8-413b-8d2a-2da9ca1b0558"
   },
   "outputs": [],
   "source": [
    "sx, sy = sym.symbols(['sx','sy'])\n",
    "fun = sx*sy # area\n",
    "numfun = sym.lambdify((sx, sy),fun) # ftn\n",
    "gradfun = [sym.diff(fun,var) for var in (sx, sy)] #take the gradient symbolically wrt x\n",
    "numgradfun = sym.lambdify((sx, sy),gradfun) #turn into a bivariate lambda for numpy\n",
    "\n",
    "# function\n",
    "def farea(X):\n",
    "    x,y = X\n",
    "    return -numfun(x,y) # to maximize\n",
    "  \n",
    "# NL Constraint\n",
    "def cons_f(X):\n",
    "    x,y = X\n",
    "    return y + x**2 - Peak # y \\leq Peak - x^2"
   ]
  },
  {
   "cell_type": "code",
   "execution_count": 4,
   "metadata": {
    "colab": {
     "base_uri": "https://localhost:8080/"
    },
    "executionInfo": {
     "elapsed": 587,
     "status": "ok",
     "timestamp": 1614194629852,
     "user": {
      "displayName": "Jonathan How",
      "photoUrl": "https://lh3.googleusercontent.com/a-/AOh14GiLNnJYgBpzQQozBm-BaS4zBKlaQEQa39WYawXVaw=s64",
      "userId": "07882044077368082882"
     },
     "user_tz": 300
    },
    "id": "zJ-kZRI0oPXq",
    "outputId": "c7d962a5-ccb8-413b-8d2a-2da9ca1b0558"
   },
   "outputs": [
    {
     "name": "stdout",
     "output_type": "stream",
     "text": [
      "`gtol` termination condition is satisfied.\n",
      "Number of iterations: 21, function evaluations: 45, CG iterations: 21, optimality: 3.65e-15, constraint violation: 0.00e+00, execution time: 0.039 s.\n",
      "`gtol` termination condition is satisfied.\n",
      "Number of iterations: 23, function evaluations: 42, CG iterations: 23, optimality: 1.24e-15, constraint violation: 0.00e+00, execution time: 0.026 s.\n"
     ]
    }
   ],
   "source": [
    "# NL constraint\n",
    "nonlinear_constraint = NonlinearConstraint(cons_f, -np.inf, 0) # inequality UB of zero\n",
    "\n",
    "# Linear constraint \n",
    "A = np.array([2,2]) # 2(x+y)\n",
    "lin_cons = LinearConstraint(A,0,Perim)\n",
    "bounds = Bounds([0, 0], [np.inf, np.inf]) # both positive numbers\n",
    "\n",
    "x0 = np.array([2.3, Peak-2**2]) # initial condition\n",
    "\n",
    "sol_lin = minimize(farea,x0,constraints=lin_cons, bounds=bounds, method='trust-constr', options={'xtol': 1e-12, 'gtol': 1e-12, 'disp': True, 'verbose':1})\n",
    "sol_NL = minimize(farea, x0, method='trust-constr', bounds=bounds, constraints=[nonlinear_constraint],options={'disp': True, 'verbose':0})"
   ]
  },
  {
   "cell_type": "code",
   "execution_count": 5,
   "metadata": {
    "colab": {
     "base_uri": "https://localhost:8080/"
    },
    "executionInfo": {
     "elapsed": 587,
     "status": "ok",
     "timestamp": 1614194629852,
     "user": {
      "displayName": "Jonathan How",
      "photoUrl": "https://lh3.googleusercontent.com/a-/AOh14GiLNnJYgBpzQQozBm-BaS4zBKlaQEQa39WYawXVaw=s64",
      "userId": "07882044077368082882"
     },
     "user_tz": 300
    },
    "id": "zJ-kZRI0oPXq",
    "outputId": "c7d962a5-ccb8-413b-8d2a-2da9ca1b0558"
   },
   "outputs": [
    {
     "name": "stdout",
     "output_type": "stream",
     "text": [
      "\n",
      "Linear Constrained solution: x = 5.000 and y = 5.000\n",
      "Max Linear area =  25.0\n",
      "Linear constraint active with margin: -2.5600006594572733e-06\n",
      "\n",
      "Expected solution: x = 2.380 and y = 11.333\n",
      "Expected area =  26.979\n",
      "\n",
      "NL Constrained solution: x = 2.380 and y = 11.333\n",
      "Max Nonlinear area =  26.979\n",
      "NL constraint active with margin: -0.0000000215\n"
     ]
    }
   ],
   "source": [
    "print(f'\\nLinear Constrained solution: x = {sol_lin.x[0]:.3f} and y = {sol_lin.x[1]:.3f}')\n",
    "print('Max Linear area = ', round(sol_lin.x[0]*sol_lin.x[1],3))\n",
    "\n",
    "if (sol_lin.v[0] > 0): # (see 2-13 in notes)\n",
    "    print('Linear constraint active with margin: '+str(A@sol_lin.x-Perim))\n",
    "\n",
    "print(f'\\nExpected solution: x = {np.sqrt(Peak/3):.3f} and y = {Peak*2/3:.3f}')\n",
    "print('Expected area = ', round(Peak*2/3*np.sqrt(Peak/3),3))\n",
    "print(f'\\nNL Constrained solution: x = {sol_NL.x[0]:.3f} and y = {sol_NL.x[1]:.3f}')\n",
    "print('Max Nonlinear area = ', round(sol_NL.x[0]*sol_NL.x[1],3))\n",
    "\n",
    "if (sol_NL.v[0] > 0):\n",
    "    print('NL constraint active with margin: '+str(np.format_float_positional(round(cons_f(sol_NL.x),10))))"
   ]
  },
  {
   "cell_type": "code",
   "execution_count": 6,
   "metadata": {
    "colab": {
     "base_uri": "https://localhost:8080/",
     "height": 443
    },
    "executionInfo": {
     "elapsed": 1171,
     "status": "ok",
     "timestamp": 1614194630440,
     "user": {
      "displayName": "Jonathan How",
      "photoUrl": "https://lh3.googleusercontent.com/a-/AOh14GiLNnJYgBpzQQozBm-BaS4zBKlaQEQa39WYawXVaw=s64",
      "userId": "07882044077368082882"
     },
     "user_tz": 300
    },
    "id": "92gBiDQkm5rs",
    "outputId": "722a9317-971a-410b-d3b7-8b2434d4e828"
   },
   "outputs": [
    {
     "data": {
      "image/png": "[encoded data removed]",
      "text/plain": [
       "<Figure size 1000x1000 with 2 Axes>"
      ]
     },
     "metadata": {},
     "output_type": "display_data"
    }
   ],
   "source": [
    "# set up the figure\n",
    "fig = plt.figure(figsize=(10,10))\n",
    "ax1 = plt.subplot2grid((2,2), (0,0), rowspan=1, colspan = 1)\n",
    "ax2 = plt.subplot2grid((2,2), (0,1), rowspan=1, colspan = 1)\n",
    "\n",
    "X = np.arange(0,Perim/2,.1)\n",
    "\n",
    "ax1.plot(X,(Perim-2*X)/2,'b-')\n",
    "ax1.set_ylim([0,10])\n",
    "ax1.set_xlim([0,10])\n",
    "ax1.set_xlabel('x')\n",
    "ax1.set_ylabel('y')\n",
    "ax1.plot([sol_lin.x[0], sol_lin.x[0]],[0,sol_lin.x[1]],'--')\n",
    "ax1.plot([0, sol_lin.x[0]],[sol_lin.x[1], sol_lin.x[1]],'--')\n",
    "ax1.plot(sol_lin.x[0],sol_lin.x[1],'bs',ms=8,label='L Sol')\n",
    "ax1.plot(Perim/4,(Perim-2*Perim/4)/2,'ro',label='Expected Sol') # expected solution\n",
    "ax1.legend()\n",
    "#ax1.set_aspect('equal')\n",
    "ax2.plot(X,-cons_f(np.array([X, 0*X])))\n",
    "ax2.plot([0, sol_NL.x[0]],[sol_NL.x[1], sol_NL.x[1]],'--')\n",
    "ax2.plot([sol_NL.x[0], sol_NL.x[0]],[0,sol_NL.x[1]],'--')\n",
    "ax2.plot(sol_NL.x[0],sol_NL.x[1],'bs',ms=8,label='NL Sol')\n",
    "ax2.plot(np.sqrt(Peak/3),2*Peak/3,'ro',label='Expected Sol') # expected solution\n",
    "ax2.legend()\n",
    "ax2.set_ylim([0,Peak+1])\n",
    "ax2.set_xlim([0,np.sqrt(Peak)])\n",
    "#ax2.set_aspect('equal')\n",
    "ax2.set_xlabel('x')\n",
    "#ax2.set_ylabel('y')\n",
    "plt.show()"
   ]
  },
  {
   "cell_type": "markdown",
   "metadata": {},
   "source": [
    "## Try same problems using Pyomo"
   ]
  },
  {
   "cell_type": "code",
   "execution_count": 15,
   "metadata": {
    "id": "45LBST1huHhF"
   },
   "outputs": [],
   "source": [
    "if not shutil.which(\"pyomo\"):\n",
    "    !pip install -q pyomo\n",
    "    assert(shutil.which(\"pyomo\"))\n",
    "\n",
    "if not (shutil.which(\"ipopt\") or os.path.isfile(\"ipopt\")):\n",
    "    if \"google.colab\" in sys.modules:\n",
    "        !wget -N -q \"https://ampl.com/dl/open/ipopt/ipopt-linux64.zip\"\n",
    "        !unzip -o -q ipopt-linux64\n",
    "    else:\n",
    "        try:\n",
    "            !conda install -c conda-forge ipopt \n",
    "        except:\n",
    "            pass\n",
    "\n",
    "assert(shutil.which(\"ipopt\") or os.path.isfile(\"ipopt\"))\n",
    "from pyomo.environ import *"
   ]
  },
  {
   "cell_type": "markdown",
   "metadata": {
    "id": "JhGTHX3J2zhN"
   },
   "source": [
    "**Pyomo Solution: linear**"
   ]
  },
  {
   "cell_type": "code",
   "execution_count": 22,
   "metadata": {
    "colab": {
     "base_uri": "https://localhost:8080/"
    },
    "executionInfo": {
     "elapsed": 1165,
     "status": "ok",
     "timestamp": 1614194630441,
     "user": {
      "displayName": "Jonathan How",
      "photoUrl": "https://lh3.googleusercontent.com/a-/AOh14GiLNnJYgBpzQQozBm-BaS4zBKlaQEQa39WYawXVaw=s64",
      "userId": "07882044077368082882"
     },
     "user_tz": 300
    },
    "id": "BrJwUQmx1rnV",
    "outputId": "c780b2e6-adcd-4078-a737-db752f807387"
   },
   "outputs": [
    {
     "name": "stdout",
     "output_type": "stream",
     "text": [
      "Linear sol x =  5.0 and y =  5.0\n",
      "Max area =  25.0\n",
      "Constraint Margin =  0.0\n"
     ]
    }
   ],
   "source": [
    "# create a model instance\n",
    "m = ConcreteModel()\n",
    "\n",
    "# create the decision variable\n",
    "m.x = Var(domain=NonNegativeReals)\n",
    "m.y = Var(domain=NonNegativeReals)\n",
    "\n",
    "m.cons = Constraint(rule=lambda m: 2*(m.x+m.y) <= Perim) # Perim constraint\n",
    "\n",
    "# create the objective\n",
    "m.area = Objective(expr=m.x*m.y, sense=maximize)\n",
    "\n",
    "#m.pprint()\n",
    "# solve using the nonlinear solver ipopt\n",
    "SolverFactory('ipopt').solve(m)\n",
    "\n",
    "print('Linear sol x = ', round(m.x(),3) ,'and y = ',round(m.y(),3))\n",
    "print('Max area = ', round(m.area(),3))\n",
    "print('Constraint Margin = ', round(m.cons() - Perim,3))"
   ]
  },
  {
   "cell_type": "markdown",
   "metadata": {
    "id": "bO6i8gUE24H2"
   },
   "source": [
    "**Pyomo Solution: nonlinear**"
   ]
  },
  {
   "cell_type": "code",
   "execution_count": 23,
   "metadata": {
    "colab": {
     "base_uri": "https://localhost:8080/"
    },
    "executionInfo": {
     "elapsed": 1162,
     "status": "ok",
     "timestamp": 1614194630441,
     "user": {
      "displayName": "Jonathan How",
      "photoUrl": "https://lh3.googleusercontent.com/a-/AOh14GiLNnJYgBpzQQozBm-BaS4zBKlaQEQa39WYawXVaw=s64",
      "userId": "07882044077368082882"
     },
     "user_tz": 300
    },
    "id": "27-Kg6Tw2w67",
    "outputId": "fef3aa8b-ff91-4894-83eb-1be3624d0005"
   },
   "outputs": [
    {
     "name": "stdout",
     "output_type": "stream",
     "text": [
      "\n",
      "Expected solution: x = 2.380 and y = 11.333\n",
      "Nonlinear solution: x = 2.380 and y = 11.333\n",
      "Max area =  26.979\n",
      "Constraint Margin =  0.0\n"
     ]
    }
   ],
   "source": [
    "# create a model instance\n",
    "m2 = ConcreteModel()\n",
    "\n",
    "# create the decision variable\n",
    "m2.x = Var(domain=NonNegativeReals)\n",
    "m2.y = Var(domain=NonNegativeReals)\n",
    "\n",
    "m2.cons = Constraint(rule=lambda m2: m2.y <= Peak - m2.x**2) # y \\leq Peak - x^2\n",
    "\n",
    "# create the objective\n",
    "m2.area = Objective(expr=m2.x*m2.y, sense=maximize)\n",
    "\n",
    "#m2.pprint()\n",
    "# solve using the nonlinear solver ipopt\n",
    "SolverFactory('ipopt').solve(m2)\n",
    "\n",
    "print(f'\\nExpected solution: x = {np.sqrt(Peak/3):.3f} and y = {Peak*2/3:.3f}')\n",
    "print(f'Nonlinear solution: x = {m2.x():.3f} and y = {m2.y():.3f}')\n",
    "print('Max area = ', round(m2.area(),3))\n",
    "print('Constraint Margin = ', round(m2.cons(),3))"
   ]
  },
  {
   "cell_type": "code",
   "execution_count": null,
   "metadata": {},
   "outputs": [],
   "source": []
  }
 ],
 "metadata": {
  "colab": {
   "collapsed_sections": [],
   "name": "Volume_example",
   "provenance": []
  },
  "kernelspec": {
   "display_name": "myenv",
   "language": "python",
   "name": "myenv"
  },
  "language_info": {
   "codemirror_mode": {
    "name": "ipython",
    "version": 3
   },
   "file_extension": ".py",
   "mimetype": "text/x-python",
   "name": "python",
   "nbconvert_exporter": "python",
   "pygments_lexer": "ipython3",
   "version": "3.9.9"
  }
 },
 "nbformat": 4,
 "nbformat_minor": 4
}
