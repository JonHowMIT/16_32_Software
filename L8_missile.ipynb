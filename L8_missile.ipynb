{
 "cells": [
  {
   "cell_type": "markdown",
   "id": "59da4683-abf0-482d-a4d4-137c7b66f970",
   "metadata": {},
   "source": [
    "# Steady state response for noisy continuous system"
   ]
  },
  {
   "cell_type": "code",
   "execution_count": 15,
   "id": "d488cf51-5b84-4b2f-8720-95cf39887e7b",
   "metadata": {
    "tags": []
   },
   "outputs": [
    {
     "name": "stdout",
     "output_type": "stream",
     "text": [
      "Running Python: 3.8.16\n"
     ]
    }
   ],
   "source": [
    "try: \n",
    "    %reload_ext autoreload\n",
    "except:\n",
    "    %load_ext autoreload\n",
    "%autoreload 2\n",
    "%run basic_material\n",
    "\n",
    "from sympy import Matrix, init_printing\n",
    "init_printing()\n",
    "\n",
    "from IPython.display import Latex"
   ]
  },
  {
   "cell_type": "code",
   "execution_count": 16,
   "id": "913b4c97-e1ce-47b2-aa9f-b8b864e0c3e7",
   "metadata": {
    "tags": []
   },
   "outputs": [],
   "source": [
    "# model params\n",
    "tau = 1.0\n",
    "Ea = 10\n",
    "umax = np.pi\n",
    "delmax = np.pi/12.\n",
    "phimax = np.pi/180.\n",
    "\n",
    "# model\n",
    "A = np.array([[0, 0, 0],[Ea/tau, -1/tau, 0], [0, 1, 0]]) # cts A matrix\n",
    "Bu = np.array([[1],[0],[0]]) # cts control input matrix\n",
    "Bw = np.array([[0],[1],[0]]) # cts noise input matrix\n",
    "Wc = np.array([1000]) # cts noise input matrix\n",
    "\n",
    "# some control weights for LQR\n",
    "Ruu = 1/umax**2\n",
    "Rxx = np.diag([1/delmax**2, 0, 1/phimax**2])\n",
    "K,_ = lqr(A,Bu,Rxx,Ruu)"
   ]
  },
  {
   "cell_type": "code",
   "execution_count": 17,
   "id": "87ea6949-c896-42de-919b-4db36bfd4c1b",
   "metadata": {
    "tags": []
   },
   "outputs": [
    {
     "data": {
      "image/png": "[encoded data removed]",
      "text/latex": [
       "$\\displaystyle \\left[\\begin{matrix}95.321 & -42.619 & -7.381\\\\-42.619 & 73.813 & 0\\\\-7.381 & 0 & 0.867\\end{matrix}\\right]$"
      ],
      "text/plain": [
       "⎡95.321   -42.619  -7.381⎤\n",
       "⎢                        ⎥\n",
       "⎢-42.619  73.813     0   ⎥\n",
       "⎢                        ⎥\n",
       "⎣-7.381      0     0.867 ⎦"
      ]
     },
     "metadata": {},
     "output_type": "display_data"
    }
   ],
   "source": [
    "Qss = la.solve_continuous_lyapunov((A-Bu@K), -Bw@np.atleast_2d(Wc)@Bw.T)\n",
    "display(Matrix(np.round(Qss,3)))"
   ]
  },
  {
   "cell_type": "code",
   "execution_count": 18,
   "id": "6359a588-2daa-4785-9924-86c936e7cc54",
   "metadata": {
    "tags": []
   },
   "outputs": [
    {
     "data": {
      "text/latex": [
       "$\\sqrt E[\\phi^2] =$ 0.93"
      ],
      "text/plain": [
       "<IPython.core.display.Latex object>"
      ]
     },
     "execution_count": 18,
     "metadata": {},
     "output_type": "execute_result"
    }
   ],
   "source": [
    "Latex(f\"$\\sqrt E[\\phi^2] =$ {sqrt(Qss[-1,-1]):3.2f}\")"
   ]
  },
  {
   "cell_type": "code",
   "execution_count": null,
   "id": "bb8d3f2d-bf7f-4eb6-b071-d5f17e903498",
   "metadata": {},
   "outputs": [],
   "source": []
  }
 ],
 "metadata": {
  "kernelspec": {
   "display_name": "Python (38)",
   "language": "python",
   "name": "python3"
  },
  "language_info": {
   "codemirror_mode": {
    "name": "ipython",
    "version": 3
   },
   "file_extension": ".py",
   "mimetype": "text/x-python",
   "name": "python",
   "nbconvert_exporter": "python",
   "pygments_lexer": "ipython3",
   "version": "3.8.16"
  }
 },
 "nbformat": 4,
 "nbformat_minor": 5
}
