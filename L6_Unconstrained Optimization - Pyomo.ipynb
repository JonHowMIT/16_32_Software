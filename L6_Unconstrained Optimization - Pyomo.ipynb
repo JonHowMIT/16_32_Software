{
 "cells": [
  {
   "cell_type": "markdown",
   "id": "bde0ab31-708d-4c28-8f03-a7f6b1bb79cc",
   "metadata": {},
   "source": [
    "# Optimize Rosenbrock Function Using Pyomo"
   ]
  },
  {
   "cell_type": "code",
   "execution_count": 1,
   "id": "66de4712-dc24-4492-b7d7-23447dae232d",
   "metadata": {
    "tags": []
   },
   "outputs": [
    {
     "name": "stdout",
     "output_type": "stream",
     "text": [
      "Running Python: 3.8.16\n"
     ]
    }
   ],
   "source": [
    "from os.path import exists\n",
    "file_exists = exists('basic_material.py')\n",
    "\n",
    "if (not file_exists):\n",
    "    !wget -O basic_material.py https://www.dropbox.com/s/ecrbitp4tig1jq6/basic_material.py?dl=0\n",
    "%run basic_material\n",
    "\n",
    "import pyomo.environ as pyo\n",
    "from pyomo.environ import *\n",
    "from pyomo.opt import SolverFactory\n",
    "\n",
    "# Look Here for guidance\n",
    "# https://static1.squarespace.com/static/5492d7f4e4b00040889988bd/t/57bd0faad482e927298cca8f/1472008110099/5_Nonlinear.pdf"
   ]
  },
  {
   "cell_type": "code",
   "execution_count": 2,
   "id": "b3d23ff9-59c0-4789-9117-13ea013d9c48",
   "metadata": {
    "tags": []
   },
   "outputs": [
    {
     "name": "stdout",
     "output_type": "stream",
     "text": [
      "# ==========================================================\n",
      "# = Solver Results                                         =\n",
      "# ==========================================================\n",
      "# ----------------------------------------------------------\n",
      "#   Problem Information\n",
      "# ----------------------------------------------------------\n",
      "Problem: \n",
      "- Lower bound: -inf\n",
      "  Upper bound: inf\n",
      "  Number of objectives: 1\n",
      "  Number of constraints: 0\n",
      "  Number of variables: 2\n",
      "  Sense: unknown\n",
      "# ----------------------------------------------------------\n",
      "#   Solver Information\n",
      "# ----------------------------------------------------------\n",
      "Solver: \n",
      "- Status: ok\n",
      "  Message: Ipopt 3.13.4\\x3a Optimal Solution Found\n",
      "  Termination condition: optimal\n",
      "  Id: 0\n",
      "  Error rc: 0\n",
      "  Time: 0.05629277229309082\n",
      "# ----------------------------------------------------------\n",
      "#   Solution Information\n",
      "# ----------------------------------------------------------\n",
      "Solution: \n",
      "- number of solutions: 0\n",
      "  number of solutions displayed: 0\n"
     ]
    }
   ],
   "source": [
    "model = ConcreteModel()\n",
    "# for access to dual solution for constraints\n",
    "model.dual = Suffix(direction=Suffix.IMPORT)\n",
    "\n",
    "# declare decision variables\n",
    "model.x = Var(domain=Reals)\n",
    "model.y = Var(domain=Reals)\n",
    "\n",
    "def rosenbrock(m):\n",
    "    return 100*(m.x**2-m.y)**2+(1-m.x)**2\n",
    "\n",
    "model.x = -2.0\n",
    "model.y = 5.0\n",
    "\n",
    "# declare objective\n",
    "model.obj = Objective(rule = rosenbrock, sense = minimize)\n",
    "\n",
    "solver = SolverFactory('ipopt')\n",
    "# solve\n",
    "results = solver.solve(model).write()"
   ]
  },
  {
   "cell_type": "code",
   "execution_count": 3,
   "id": "126e6f4c-e571-431b-bbd5-eb713a3ace5c",
   "metadata": {
    "tags": []
   },
   "outputs": [
    {
     "name": "stdout",
     "output_type": "stream",
     "text": [
      "Solution [1.00000000,1.00000000]\n"
     ]
    }
   ],
   "source": [
    "print(f'Solution [{model.x():.8f},{model.y():.8f}]')"
   ]
  },
  {
   "cell_type": "markdown",
   "id": "0207958a-90eb-4970-b16f-7c05a18ea510",
   "metadata": {},
   "source": [
    "## Try Range of IC"
   ]
  },
  {
   "cell_type": "code",
   "execution_count": 17,
   "id": "9b23e7f1-31a4-414f-ae32-ce630e2b93a5",
   "metadata": {
    "tags": []
   },
   "outputs": [
    {
     "name": "stdout",
     "output_type": "stream",
     "text": [
      "x_init  y_init   x_soln     y_soln      Time\n",
      "-36.00  -36.00  0.9999803  0.9999588   0.0972\n",
      "-24.00  -36.00  0.9999938  0.9999875   0.0822\n",
      "-12.00  -36.00  0.9999995  0.9999989   0.0617\n",
      "  0.00  -36.00  1.0000000  1.0000000   0.0556\n",
      " 12.00  -36.00  1.0000000  1.0000000   0.0628\n",
      " 24.00  -36.00  1.0000009  1.0000013   0.0658\n",
      "-36.00  -24.00  0.9999930  0.9999856   0.0735\n",
      "-24.00  -24.00  0.9999992  0.9999983   0.0671\n",
      "-12.00  -24.00  1.0000000  1.0000000   0.0610\n",
      "  0.00  -24.00  1.0000000  1.0000000   0.0524\n",
      " 12.00  -24.00  1.0000000  1.0000000   0.0653\n",
      " 24.00  -24.00  1.0000235  1.0000466   0.0758\n",
      "-36.00  -12.00  0.9999953  0.9999897   0.0729\n",
      "-24.00  -12.00  0.9999754  0.9999496   0.0724\n",
      "-12.00  -12.00  0.9999998  0.9999997   0.0624\n",
      "  0.00  -12.00  1.0000000  1.0000000   0.0582\n",
      " 12.00  -12.00  1.0000030  1.0000059   0.0612\n",
      " 24.00  -12.00  1.0000007  1.0000014   0.0675\n",
      "-36.00    0.00  0.9999369  0.9998703   0.0746\n",
      "-24.00    0.00  1.0000000  1.0000000   0.0731\n",
      "-12.00    0.00  1.0000000  1.0000000   0.0620\n",
      "  0.00    0.00  1.0000000  1.0000000   0.0532\n",
      " 12.00    0.00  1.0000000  1.0000000   0.0596\n",
      " 24.00    0.00  1.0000154  1.0000301   0.0681\n",
      "-36.00   12.00  0.9999894  0.9999784   0.0728\n",
      "-24.00   12.00  1.0000000  1.0000000   0.0672\n",
      "-12.00   12.00  0.9999935  0.9999870   0.0661\n",
      "  0.00   12.00  1.0000000  1.0000000   0.0576\n",
      " 12.00   12.00  1.0000000  1.0000000   0.0666\n",
      " 24.00   12.00  1.0000092  1.0000183   0.0689\n",
      "-36.00   24.00  0.9999992  0.9999984   0.0766\n",
      "-24.00   24.00  1.0000000  1.0000000   0.0802\n",
      "-12.00   24.00  1.0000000  1.0000000   0.0718\n",
      "  0.00   24.00  1.0000000  1.0000000   0.0689\n",
      " 12.00   24.00  1.0000000  1.0000000   0.0796\n",
      " 24.00   24.00  1.0000000  1.0000000   0.0760\n"
     ]
    }
   ],
   "source": [
    "print('x_init  y_init   x_soln     y_soln      Time')\n",
    "for y_init in range(-36, 36, 12):\n",
    "    for x_init in range(-36, 36, 12):\n",
    "        model.x = x_init\n",
    "        model.y = y_init\n",
    "        tic = time.time()\n",
    "        solver.solve(model)\n",
    "        print(\"{0:6.2f}  {1:6.2f}  {2:6.7f}  {3:6.7f} {4:8.4f}\".format(\n",
    "            x_init, y_init, value(model.x), value(model.y),time.time() - tic))"
   ]
  },
  {
   "cell_type": "code",
   "execution_count": null,
   "id": "4a5e3627-f4e0-439d-aff8-fb371049b26f",
   "metadata": {},
   "outputs": [],
   "source": []
  }
 ],
 "metadata": {
  "kernelspec": {
   "display_name": "myenv",
   "language": "python",
   "name": "myenv"
  },
  "language_info": {
   "codemirror_mode": {
    "name": "ipython",
    "version": 3
   },
   "file_extension": ".py",
   "mimetype": "text/x-python",
   "name": "python",
   "nbconvert_exporter": "python",
   "pygments_lexer": "ipython3",
   "version": "3.9.9"
  }
 },
 "nbformat": 4,
 "nbformat_minor": 5
}
