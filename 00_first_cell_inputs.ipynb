{
 "cells": [
  {
   "cell_type": "code",
   "execution_count": null,
   "id": "5710c8d1-7ea8-434d-928f-d2fafbb747b8",
   "metadata": {},
   "outputs": [],
   "source": [
    "from os.path import exists\n",
    "file_exists = exists('basic_material.py')\n",
    "\n",
    "if (not file_exists):\n",
    "  !wget -O basic_material.py https://www.dropbox.com/s/3aoexl8vxyitmds/basic_material.py?dl=0\n",
    "%run basic_material\n",
    "\n",
    "try:\n",
    "    import google.colab\n",
    "    IN_COLAB = True\n",
    "    # don't need serial here\n",
    "except:\n",
    "    IN_COLAB = False\n",
    "    try: \n",
    "        import serial\n",
    "    except:\n",
    "        !pip3 install pyserial\n",
    "        import serial\n",
    "\n",
    "import time, csv, os, requests\n",
    " \n",
    "from os import path\n",
    "if os.path.isdir(\"./data/\"):\n",
    "    pass\n",
    "else:\n",
    "    !mkdir ./data\n",
    "    \n",
    "if os.path.isdir(\"./figs/\"):\n",
    "    pass\n",
    "else:\n",
    "    !mkdir ./figs"
   ]
  }
 ],
 "metadata": {
  "kernelspec": {
   "display_name": "Python 3 (ipykernel)",
   "language": "python",
   "name": "python3"
  },
  "language_info": {
   "codemirror_mode": {
    "name": "ipython",
    "version": 3
   },
   "file_extension": ".py",
   "mimetype": "text/x-python",
   "name": "python",
   "nbconvert_exporter": "python",
   "pygments_lexer": "ipython3",
   "version": "3.8.12"
  }
 },
 "nbformat": 4,
 "nbformat_minor": 5
}
