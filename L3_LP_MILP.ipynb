{
 "cells": [
  {
   "cell_type": "markdown",
   "id": "a7b51720-945b-41f2-8a5f-cfddfb42501e",
   "metadata": {
    "tags": []
   },
   "source": [
    "# Linear Program\n",
    "https://docs.scipy.org/doc/scipy/reference/generated/scipy.optimize.linprog.html"
   ]
  },
  {
   "cell_type": "code",
   "execution_count": 1,
   "id": "c1beeba9-e4f6-44f0-9705-87fea52ab68b",
   "metadata": {},
   "outputs": [],
   "source": [
    "from scipy.optimize import linprog"
   ]
  },
  {
   "cell_type": "markdown",
   "id": "823b5fc8-b51f-48eb-902c-b580bf0b1066",
   "metadata": {},
   "source": [
    "\\begin{eqnarray}\n",
    "\\min_x c^T x \\\\\n",
    "Ax \\leq b \\\\\n",
    "-3 \\leq x[1]\n",
    "\\end{eqnarray}\n"
   ]
  },
  {
   "cell_type": "code",
   "execution_count": 2,
   "id": "5ae7ca29-b198-427b-9db6-c8a9bc37e4d2",
   "metadata": {},
   "outputs": [],
   "source": [
    "c = [-1, 4]\n",
    "A = [[-3, 1], [1, 2]]\n",
    "b = [6, 4]\n",
    "x0_bounds = (None, None)\n",
    "x1_bounds = (-3, None)"
   ]
  },
  {
   "cell_type": "code",
   "execution_count": 3,
   "id": "c8a71eba-4510-43d4-820f-516841869040",
   "metadata": {},
   "outputs": [
    {
     "name": "stdout",
     "output_type": "stream",
     "text": [
      "           con: array([], dtype=float64)\n",
      " crossover_nit: 0\n",
      "         eqlin:  marginals: array([], dtype=float64)\n",
      "  residual: array([], dtype=float64)\n",
      "           fun: -22.0\n",
      "       ineqlin:  marginals: array([-0., -1.])\n",
      "  residual: array([39.,  0.])\n",
      "         lower:  marginals: array([0., 6.])\n",
      "  residual: array([inf,  0.])\n",
      "       message: 'Optimization terminated successfully. (HiGHS Status 7: Optimal)'\n",
      "           nit: 0\n",
      "         slack: array([39.,  0.])\n",
      "        status: 0\n",
      "       success: True\n",
      "         upper:  marginals: array([0., 0.])\n",
      "  residual: array([inf, inf])\n",
      "             x: array([10., -3.])\n"
     ]
    }
   ],
   "source": [
    "res = linprog(c, A_ub=A, b_ub=b, bounds=[x0_bounds, x1_bounds], method='highs')\n",
    "print(res)"
   ]
  },
  {
   "cell_type": "markdown",
   "id": "587efd08-0264-484d-be28-5501a8adee2d",
   "metadata": {},
   "source": [
    "\\begin{eqnarray}\n",
    "\\min_x f x \\\\\n",
    "Ax \\leq b \\\\\n",
    "\\end{eqnarray}"
   ]
  },
  {
   "cell_type": "code",
   "execution_count": 6,
   "id": "b3218c4f-45eb-4e32-91ad-56f1e0bc72b0",
   "metadata": {},
   "outputs": [],
   "source": [
    "f=[-60, -40, -30]\n",
    "A=[[1, 1, 1],[0.3, 1.7, 0],[4, 2, 2], [1, 0, 0], [0, 0, 1], [1, 1, 1]]\n",
    "b=[[7], [3], [8], [1.8], [0.3], [3.8]]"
   ]
  },
  {
   "cell_type": "code",
   "execution_count": 7,
   "id": "5def0c1c-fd27-4360-9ad0-6dbeb0038136",
   "metadata": {},
   "outputs": [
    {
     "name": "stdout",
     "output_type": "stream",
     "text": [
      "x[0] = 1061.29\n",
      "x[1] = 1577.42\n",
      "x[2] = 300.00\n"
     ]
    }
   ],
   "source": [
    "res2 = linprog(f, A_ub=A, b_ub=b, method='highs')\n",
    "print(f\"x[0] = {1000*res2.x[0]:.2f}\\nx[1] = {1000*res2.x[1]:.2f}\\nx[2] = {1000*res2.x[2]:.2f}\")"
   ]
  },
  {
   "cell_type": "markdown",
   "id": "cdb0dc75-5f59-4d13-aaa4-68165cc25a93",
   "metadata": {},
   "source": [
    "# Mixed Integer Linear Program\n",
    "https://docs.python-mip.com/en/latest/examples.html#the-0-1-knapsack-problem\n"
   ]
  },
  {
   "cell_type": "code",
   "execution_count": 8,
   "id": "852c0be9-3e78-4095-b251-3e470d31bade",
   "metadata": {},
   "outputs": [],
   "source": [
    "# https://docs.python-mip.com/en/latest/examples.html#the-0-1-knapsack-problem\n",
    "try: \n",
    "    from mip import Model, MAXIMIZE, CBC, INTEGER, OptimizationStatus\n",
    "except:\n",
    "    %pip install mip\n",
    "    from mip import Model, MAXIMIZE, CBC, INTEGER, OptimizationStatus"
   ]
  },
  {
   "cell_type": "code",
   "execution_count": 11,
   "id": "ce7b89ca-d76c-43f7-905c-ae2fdd1a3454",
   "metadata": {},
   "outputs": [
    {
     "name": "stdout",
     "output_type": "stream",
     "text": [
      "Cgl0004I processed model has 3 rows, 3 columns (3 integer (0 of which binary)) and 8 elements\n",
      "Coin3009W Conflict graph built in 0.000 seconds, density: 0.000%\n",
      "Cgl0015I Clique Strengthening extended 0 cliques, 0 were dominated\n",
      "Cbc0012I Integer solution of -135740 found by DiveCoefficient after 0 iterations and 0 nodes (0.01 seconds)\n",
      "Cbc0038I Full problem 3 rows 3 columns, reduced to 3 rows 2 columns\n",
      "Cbc0012I Integer solution of -135760 found by RINS after 0 iterations and 0 nodes (0.01 seconds)\n",
      "Cbc0012I Integer solution of -135770 found by DiveCoefficient after 3 iterations and 0 nodes (0.01 seconds)\n",
      "Cbc0031I 1 added rows had average density of 3\n",
      "Cbc0013I At root node, 1 cuts changed objective from -135774.19 to -135770 in 8 passes\n",
      "Cbc0014I Cut generator 0 (Probing) - 0 row cuts average 0.0 elements, 14 column cuts (14 active)  in 0.000 seconds - new frequency is 1\n",
      "Cbc0014I Cut generator 1 (Gomory) - 2 row cuts average 3.0 elements, 0 column cuts (0 active)  in 0.000 seconds - new frequency is 1\n",
      "Cbc0014I Cut generator 2 (Knapsack) - 0 row cuts average 0.0 elements, 0 column cuts (0 active)  in 0.000 seconds - new frequency is -100\n",
      "Cbc0014I Cut generator 3 (Clique) - 0 row cuts average 0.0 elements, 0 column cuts (0 active)  in 0.000 seconds - new frequency is -100\n",
      "Cbc0014I Cut generator 4 (OddWheel) - 0 row cuts average 0.0 elements, 0 column cuts (0 active)  in 0.000 seconds - new frequency is -100\n",
      "Cbc0014I Cut generator 5 (MixedIntegerRounding2) - 0 row cuts average 0.0 elements, 0 column cuts (0 active)  in 0.000 seconds - new frequency is -100\n",
      "Cbc0014I Cut generator 6 (FlowCover) - 0 row cuts average 0.0 elements, 0 column cuts (0 active)  in 0.000 seconds - new frequency is -100\n",
      "Cbc0001I Search completed - best objective -135770, took 3 iterations and 0 nodes (0.01 seconds)\n",
      "Cbc0035I Maximum depth 0, 0 variables fixed on reduced cost\n",
      "Total time (CPU seconds):       0.00   (Wallclock seconds):       0.02\n",
      "\n",
      "Starting solution of the Linear programming relaxation problem using Primal Simplex\n",
      "\n",
      "Coin0506I Presolve 3 (-3) rows, 3 (0) columns and 8 (-5) elements\n",
      "Clp1000I sum of infeasibilities 0 - average 0, 0 fixed columns\n",
      "Coin0506I Presolve 3 (0) rows, 3 (0) columns and 8 (0) elements\n",
      "Clp0006I 0  Obj 135774.19 Dual inf 1.299997 (3)\n",
      "Clp0029I End of values pass after 3 iterations\n",
      "Clp0000I Optimal - objective value 135774.19\n",
      "Clp0000I Optimal - objective value 135774.19\n",
      "Coin0511I After Postsolve, objective 135774.19, infeasibilities - dual 0 (0), primal 0 (0)\n",
      "Clp0006I 0  Obj 135774.19\n",
      "Clp0000I Optimal - objective value 135774.19\n",
      "Clp0000I Optimal - objective value 135774.19\n",
      "Clp0000I Optimal - objective value 135774.19\n",
      "Coin0511I After Postsolve, objective 135774.19, infeasibilities - dual 0 (0), primal 0 (0)\n",
      "Clp0032I Optimal objective 135774.1935 - 0 iterations time 0.002, Presolve 0.00, Idiot 0.00\n",
      "\n",
      "Starting MIP optimization\n"
     ]
    },
    {
     "data": {
      "text/plain": [
       "True"
      ]
     },
     "execution_count": 11,
     "metadata": {},
     "output_type": "execute_result"
    }
   ],
   "source": [
    "model = Model(sense=MAXIMIZE, solver_name=CBC)\n",
    "x1 = model.add_var(name='x1', var_type=INTEGER, lb=0, ub=1900)\n",
    "x2 = model.add_var(name='x2', var_type=INTEGER, lb=0, ub=1900)\n",
    "x3 = model.add_var(name='x3', var_type=INTEGER, lb=0, ub=1900)\n",
    "model += x1 + x2 + x3 <= 7000\n",
    "model += 0.3*x1 + 1.7*x2 <= 3000\n",
    "model += 4*x1 + 2*x2 + 2*x3 <= 8000\n",
    "model += x1 <= 1800\n",
    "model += x3 <= 300\n",
    "model += x1 + x2 + x3 <= 3800\n",
    "model.objective = 60*x1 + 40*x2 + 30*x3\n",
    "status = model.optimize(max_seconds=2)\n",
    "status == OptimizationStatus.OPTIMAL"
   ]
  },
  {
   "cell_type": "code",
   "execution_count": 12,
   "id": "8c3a454a-ff3b-46e6-9f8d-74fd4cb5ba3d",
   "metadata": {},
   "outputs": [
    {
     "name": "stdout",
     "output_type": "stream",
     "text": [
      "x_i[0] = 1062.0\n",
      "x_i[1] = 1577.0\n",
      "x_i[2] = 299.0\n"
     ]
    }
   ],
   "source": [
    "print(f\"x_i[0] = {x1.x:.1f}\\nx_i[1] = {x2.x:.1f}\\nx_i[2] = {x3.x:.1f}\")"
   ]
  },
  {
   "cell_type": "code",
   "execution_count": null,
   "id": "8f40e239-df97-463d-ae36-4e23f0d041ce",
   "metadata": {},
   "outputs": [],
   "source": []
  }
 ],
 "metadata": {
  "kernelspec": {
   "display_name": "Python 3 (ipykernel)",
   "language": "python",
   "name": "python3"
  },
  "language_info": {
   "codemirror_mode": {
    "name": "ipython",
    "version": 3
   },
   "file_extension": ".py",
   "mimetype": "text/x-python",
   "name": "python",
   "nbconvert_exporter": "python",
   "pygments_lexer": "ipython3",
   "version": "3.8.12"
  },
  "latex_envs": {
   "LaTeX_envs_menu_present": true,
   "autoclose": false,
   "autocomplete": true,
   "bibliofile": "biblio.bib",
   "cite_by": "apalike",
   "current_citInitial": 1,
   "eqLabelWithNumbers": true,
   "eqNumInitial": 1,
   "hotkeys": {
    "equation": "Ctrl-E",
    "itemize": "Ctrl-I"
   },
   "labels_anchors": false,
   "latex_user_defs": false,
   "report_style_numbering": false,
   "user_envs_cfg": false
  }
 },
 "nbformat": 4,
 "nbformat_minor": 5
}
